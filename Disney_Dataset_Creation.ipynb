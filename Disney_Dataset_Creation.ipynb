{
  "nbformat": 4,
  "nbformat_minor": 0,
  "metadata": {
    "colab": {
      "private_outputs": true,
      "provenance": [],
      "authorship_tag": "ABX9TyOgcfKGiuU6Vz/xG898kUlD",
      "include_colab_link": true
    },
    "kernelspec": {
      "name": "python3",
      "display_name": "Python 3"
    },
    "language_info": {
      "name": "python"
    }
  },
  "cells": [
    {
      "cell_type": "markdown",
      "metadata": {
        "id": "view-in-github",
        "colab_type": "text"
      },
      "source": [
        "<a href=\"https://colab.research.google.com/github/MalikHasnat1999/Web-Scraping/blob/master/Disney_Dataset_Creation.ipynb\" target=\"_parent\"><img src=\"https://colab.research.google.com/assets/colab-badge.svg\" alt=\"Open In Colab\"/></a>"
      ]
    },
    {
      "cell_type": "markdown",
      "source": [
        "## Import Libraries"
      ],
      "metadata": {
        "id": "FEOOBVYuv4Zf"
      }
    },
    {
      "cell_type": "code",
      "execution_count": null,
      "metadata": {
        "id": "NsTe2lVvT-P2"
      },
      "outputs": [],
      "source": [
        "# import libraries\n",
        "import requests\n",
        "from bs4 import BeautifulSoup"
      ]
    },
    {
      "cell_type": "markdown",
      "source": [
        "## Load the webpage"
      ],
      "metadata": {
        "id": "3alz1ge1v_7o"
      }
    },
    {
      "cell_type": "code",
      "source": [
        "# request the webpage connection\n",
        "r = requests.get(\"https://en.wikipedia.org/wiki/Tron:_Legacy\")\n",
        "\n",
        "# convert to beautiful soup\n",
        "soup = BeautifulSoup(r.content)\n",
        "contents = soup.prettify()\n",
        "# print(contents)"
      ],
      "metadata": {
        "id": "xs0NZBAxheLL"
      },
      "execution_count": null,
      "outputs": []
    },
    {
      "cell_type": "markdown",
      "source": [
        "### Task#1: Creating Dictionary of info box"
      ],
      "metadata": {
        "id": "8ugdKN9OxlmC"
      }
    },
    {
      "cell_type": "code",
      "source": [
        "info_box = soup.find(class_=\"infobox vevent\")\n",
        "info_rows = info_box.find_all(\"tr\")\n",
        "\n",
        "\n",
        "def get_content_value(td):\n",
        "  if td.find(\"li\"):\n",
        "    return [li.get_text(\" \", strip=True).replace(\"\\xa0\", \" \") for li in td.find_all(\"li\")]\n",
        "  else:\n",
        "    return td.get_text(\" \", strip=True).replace(\"\\xa0\", \" \")\n",
        "\n",
        "\n",
        "movie_info = {}\n",
        "for index, tr in enumerate(info_rows):\n",
        "  if index == 0:\n",
        "    movie_info[\"title\"] = tr.th.get_text(\" \", strip=True)\n",
        "  elif index == 1:\n",
        "    continue\n",
        "  else:\n",
        "    content_key = tr.th.get_text(\" \", strip=True)\n",
        "    content_value = get_content_value(tr.find(\"td\"))\n",
        "    movie_info[content_key] = content_value\n",
        "\n",
        "movie_info"
      ],
      "metadata": {
        "id": "GzlRcx0-hnSk"
      },
      "execution_count": null,
      "outputs": []
    },
    {
      "cell_type": "markdown",
      "source": [
        "### Task#2: Get info box for all movies"
      ],
      "metadata": {
        "id": "uMWtvDuJ58Uh"
      }
    },
    {
      "cell_type": "code",
      "source": [
        "# request the webpage connection\n",
        "r = requests.get(\"https://en.wikipedia.org/wiki/List_of_Walt_Disney_Pictures_films\")\n",
        "\n",
        "# convert to beautiful soup\n",
        "soup = BeautifulSoup(r.content)\n",
        "contents = soup.prettify()\n",
        "# print(contents)"
      ],
      "metadata": {
        "id": "OI7EQlydw0Ak"
      },
      "execution_count": null,
      "outputs": []
    },
    {
      "cell_type": "code",
      "source": [
        "movies = soup.select(\".wikitable.sortable i a\")\n",
        "movies[8]['href']"
      ],
      "metadata": {
        "id": "5cOcd0BV65e_"
      },
      "execution_count": null,
      "outputs": []
    },
    {
      "cell_type": "code",
      "source": [
        "\n",
        "def get_content_value(td):\n",
        "  if td.find(\"li\"):\n",
        "    return [li.get_text(\" \", strip=True).replace(\"\\xa0\", \" \") for li in td.find_all(\"li\")]\n",
        "  elif td.find('br'):\n",
        "     return [text for text in td.stripped_strings]\n",
        "  else:\n",
        "    return td.get_text(\" \", strip=True).replace(\"\\xa0\", \" \")\n",
        "\n",
        "def clean_tags(soup):\n",
        "  \"\"\"\n",
        "    remove references [1], [2] etc\n",
        "   \"\"\"\n",
        "  for tag in soup.find_all(['sup', 'span']):\n",
        "    tag.decompose()\n",
        "\n",
        "def get_info_box(url):\n",
        "\n",
        "  r = requests.get(url)\n",
        "\n",
        "  soup = BeautifulSoup(r.content)\n",
        "  contents = soup.prettify()\n",
        "  info_box = soup.find(class_=\"infobox vevent\")\n",
        "  info_rows = info_box.find_all(\"tr\")\n",
        "\n",
        "  clean_tags(soup)\n",
        "\n",
        "  movie_info = {}\n",
        "  for index, tr in enumerate(info_rows):\n",
        "    if index == 0:\n",
        "      movie_info[\"title\"] = tr.th.get_text(\" \", strip=True)\n",
        "    # elif index == 1:\n",
        "    #   continue\n",
        "    else:\n",
        "      header = tr.find('th')\n",
        "      if header:\n",
        "        content_key = tr.th.get_text(\" \", strip=True)\n",
        "        content_value = get_content_value(tr.find(\"td\"))\n",
        "        movie_info[content_key] = content_value\n",
        "\n",
        "  return movie_info\n"
      ],
      "metadata": {
        "id": "OqgK3SPQAcgP"
      },
      "execution_count": null,
      "outputs": []
    },
    {
      "cell_type": "code",
      "source": [
        "get_info_box(\"https://en.wikipedia.org/wiki/One_Little_Indian_(film)\")"
      ],
      "metadata": {
        "id": "BvaqB0zcL81X"
      },
      "execution_count": null,
      "outputs": []
    },
    {
      "cell_type": "code",
      "source": [
        "r = requests.get(\"https://en.wikipedia.org/wiki/List_of_Walt_Disney_Pictures_films\")\n",
        "soup = BeautifulSoup(r.content)\n",
        "movies = soup.select(\".wikitable.sortable i a\")\n",
        "\n",
        "base_path = \"https://en.wikipedia.org\"\n",
        "movie_info_list = []\n",
        "for index, movie in enumerate(movies):\n",
        "  if index % 10 == 0:\n",
        "    print(index)\n",
        "  try:\n",
        "    relative_path = movie['href']\n",
        "    full_path = base_path + relative_path\n",
        "    title = movie['title']\n",
        "  \n",
        "    movie_info_list.append(get_info_box(full_path))\n",
        "  except Exception as e:\n",
        "    print(movie.get_text())\n",
        "    print(e)\n",
        "  "
      ],
      "metadata": {
        "id": "exf3-l8PEIXh"
      },
      "execution_count": null,
      "outputs": []
    },
    {
      "cell_type": "code",
      "source": [
        "len(movie_info_list)"
      ],
      "metadata": {
        "id": "FcFu_cx5IELo"
      },
      "execution_count": null,
      "outputs": []
    },
    {
      "cell_type": "markdown",
      "source": [
        "### Task#3: Clean our data\n",
        "\n",
        "* ~~Clean up references [1], [2] etc~~\n",
        "* Convert running time into an integer\n",
        "* Convert Dates into DateTime object\n",
        "* ~~Split up long strings~~\n",
        "* Convert Budget & Box office to number\n"
      ],
      "metadata": {
        "id": "QzdRvYnKJ-ue"
      }
    },
    {
      "cell_type": "markdown",
      "source": [
        "#### Convert running time to an integer"
      ],
      "metadata": {
        "id": "ttLFkYu3-F7e"
      }
    },
    {
      "cell_type": "code",
      "source": [
        "[movie.get('Running time', 'N/A') for movie in movie_info_list]"
      ],
      "metadata": {
        "id": "3vpHmlreJttE"
      },
      "execution_count": null,
      "outputs": []
    },
    {
      "cell_type": "code",
      "source": [
        "def minute_to_integer(running_time):\n",
        "  if running_time == 'N/A':\n",
        "    return None\n",
        "\n",
        "  if isinstance(running_time, list):\n",
        "    entry = running_time[0]\n",
        "    value = int(entry.split(\" \")[0])\n",
        "    return value\n",
        "  else:\n",
        "    value = int(running_time.split(\" \")[0])\n",
        "    return value\n",
        "\n",
        "\n",
        "\n",
        "for movie in movie_info_list:\n",
        "  movie[\"Running time (int)\"] = minute_to_integer(movie.get('Running time', 'N/A'))\n"
      ],
      "metadata": {
        "id": "uPWxH5xELjDM"
      },
      "execution_count": null,
      "outputs": []
    },
    {
      "cell_type": "markdown",
      "source": [],
      "metadata": {
        "id": "0VpHOifd7E8U"
      }
    },
    {
      "cell_type": "code",
      "source": [
        "movie_info_list[0]"
      ],
      "metadata": {
        "id": "4ilIjx1yNzBI"
      },
      "execution_count": null,
      "outputs": []
    },
    {
      "cell_type": "code",
      "source": [
        "[movie.get('Running time (int)', 'N/A') for movie in movie_info_list]"
      ],
      "metadata": {
        "id": "W3zw-4w68vzF"
      },
      "execution_count": null,
      "outputs": []
    },
    {
      "cell_type": "markdown",
      "source": [
        "#### Convert Budget & Box office to number\n"
      ],
      "metadata": {
        "id": "CJFUfMFC-ahj"
      }
    },
    {
      "cell_type": "code",
      "source": [
        "[movie.get('Budget', 'N/a') for movie in movie_info_list]"
      ],
      "metadata": {
        "id": "CcDRLwWV9RJ2"
      },
      "execution_count": null,
      "outputs": []
    },
    {
      "cell_type": "markdown",
      "source": [
        "TODO\n",
        "\n",
        "* Given either a string ora list of strings as input, return a number (int or float) which is equal to the montary value\n",
        "\n",
        "* money_conversion(\"$12.2 million\") --> 12200000  ## Word Syntax\n",
        "\n",
        "* money_coversaion(\"$790,000\") --> 790000  ## Value Syntax"
      ],
      "metadata": {
        "id": "n7LXlucw_wio"
      }
    },
    {
      "cell_type": "code",
      "source": [
        "import re\n",
        "\n",
        "amounts = r\"thousand|million|billion\"\n",
        "number = r\"\\d+(,\\d{3})*\\.*\\d*\"\n",
        "\n",
        "value_re = rf\"\\${number}\"\n",
        "word_re = rf\"\\${number}(-|\\sto\\s)?({number})?\\s({amounts})\"\n",
        "\n",
        "# print(re.search(number, '704,222.12').group())\n",
        "\n",
        "def word_to_value(word):\n",
        "  value_dict = {\"thousand\" : 1000, \"million\":1000000, \"billion\": 1000000000}\n",
        "  return value_dict[word]\n",
        "\n",
        "def parse_value_syntax(string):\n",
        "  value_string = re.search(number, string).group()\n",
        "  value = float(value_string.replace(\",\",\"\"))\n",
        "  # strip out commas before returningsolution\n",
        "  return value\n",
        "\n",
        "def parse_word_syntax(string):\n",
        "  value_string = re.search(number, string, flags=re.I).group()\n",
        "  value = float(value_string.replace(\",\",\"\"))\n",
        "  word = re.search(amounts, string).group().lower()\n",
        "  word_value = word_to_value(word)\n",
        "  return value*word_value\n",
        "\n",
        "def money_conversion(money):\n",
        "  if money == 'N/A':\n",
        "    return None\n",
        "  if isinstance(money, list):\n",
        "    money = money[0]\n",
        "  value_syntax = re.search(value_re, money)\n",
        "  word_syntax = re.search(word_re, money)\n",
        "  if word_syntax:\n",
        "    return parse_word_syntax(word_syntax.group())\n",
        "  elif value_syntax:\n",
        "    return parse_value_syntax(value_syntax.group())\n",
        "  else:\n",
        "    return None\n"
      ],
      "metadata": {
        "id": "0fLJg_7K_Q6N"
      },
      "execution_count": null,
      "outputs": []
    },
    {
      "cell_type": "code",
      "source": [
        "for movie in movie_info_list:\n",
        "  movie['Budget (float)'] = money_conversion(movie.get('Budget', 'N/A'))\n",
        "  movie['Box office (float)'] = money_conversion(movie.get('Box office', 'N/A'))"
      ],
      "metadata": {
        "id": "32gStrSoLXPv"
      },
      "execution_count": null,
      "outputs": []
    },
    {
      "cell_type": "code",
      "source": [
        "movie_info_list[1]"
      ],
      "metadata": {
        "id": "eYaL7K2zMYi5"
      },
      "execution_count": null,
      "outputs": []
    },
    {
      "cell_type": "markdown",
      "source": [
        "#### Convert Dates to DateTime object"
      ],
      "metadata": {
        "id": "_TLQ5X4nWOzL"
      }
    },
    {
      "cell_type": "code",
      "source": [
        "[movie.get('Release date', 'N/A') for movie in movie_info_list]"
      ],
      "metadata": {
        "id": "a1MFdMt5funm"
      },
      "execution_count": null,
      "outputs": []
    },
    {
      "cell_type": "code",
      "source": [
        "from datetime import datetime\n",
        "\n",
        "dates = [movie.get('Release date', 'N/A') for movie in movie_info_list]\n",
        "\n",
        "def clean_date(date):\n",
        "  return date.split(\"(\")[0].strip()\n",
        "\n",
        "def date_conversion(date):\n",
        "  if isinstance(date, list):\n",
        "    date = date[0]\n",
        "  if date == 'N/A':\n",
        "    return None\n",
        "  date_str = clean_date(date)\n",
        "  fmts = [\"%B %d, %Y\", \"%d %B %Y\", \"Y\"]\n",
        "  for fmt in fmts: \n",
        "    try:\n",
        "      return datetime.strptime(date_str, fmt)\n",
        "    except:\n",
        "      pass\n",
        "  return None"
      ],
      "metadata": {
        "id": "FnyLhGjvTtph"
      },
      "execution_count": null,
      "outputs": []
    },
    {
      "cell_type": "code",
      "source": [
        "for movie in movie_info_list: \n",
        "  movie['Release date (datetime)'] = date_conversion(movie.get('Release date', 'N/A'))"
      ],
      "metadata": {
        "id": "oLkIDsPvg_kF"
      },
      "execution_count": null,
      "outputs": []
    },
    {
      "cell_type": "code",
      "source": [
        "movie_info_list[2]"
      ],
      "metadata": {
        "id": "bU-jU_1VlaZL"
      },
      "execution_count": null,
      "outputs": []
    },
    {
      "cell_type": "code",
      "source": [
        "import pickle\n",
        "\n",
        "def save_data_pickle(name, data):\n",
        "  with open(name, 'wb') as f:\n",
        "    pickle.dump(data, f)"
      ],
      "metadata": {
        "id": "ljApMMwrlvC3"
      },
      "execution_count": null,
      "outputs": []
    },
    {
      "cell_type": "code",
      "source": [
        "import pickle\n",
        "\n",
        "def load_data_pickle(name):\n",
        "  with open(name, 'rb') as f:\n",
        "    return pickle.load(f)"
      ],
      "metadata": {
        "id": "xMxjK4wKmxgY"
      },
      "execution_count": null,
      "outputs": []
    },
    {
      "cell_type": "code",
      "source": [
        "save_data_pickle('disney_movie_cleaned_data.pickle', movie_info_list)"
      ],
      "metadata": {
        "id": "TthnEIU9nJT_"
      },
      "execution_count": null,
      "outputs": []
    },
    {
      "cell_type": "markdown",
      "source": [
        "### Task#4: Attach IMDB/Rotten Tommatoes/Metascore ratings Using API"
      ],
      "metadata": {
        "id": "-uQjvH0JoqnQ"
      }
    },
    {
      "cell_type": "code",
      "source": [
        "import requests\n",
        "import os\n",
        "import urllib\n",
        "\n",
        "# http://www.omdbapi.com/?apikey=[yourkey]&\n",
        "\n",
        "def get_omdb_info(title):\n",
        "  base_url = \"http://www.omdbapi.com/?\"\n",
        "  parameters = {'apikey': '2704f42a', 't': title}\n",
        "  params_encoded = urllib.parse.urlencode(parameters)\n",
        "  full_url = base_url + params_encoded\n",
        "  return requests.get(full_url).json()\n",
        "\n",
        "def get_rotten_tomatoes_score(omdb_info):\n",
        "  ratings = omdb_info.get('Ratings', [])\n",
        "  for rating in ratings:\n",
        "    if rating['Source'] == 'Rotten Tomatoes':\n",
        "      return rating['Value']\n",
        "  return None\n",
        "\n",
        "get_omdb_info"
      ],
      "metadata": {
        "id": "P-tu5I8xon5o"
      },
      "execution_count": null,
      "outputs": []
    },
    {
      "cell_type": "code",
      "source": [
        "for movie in movie_info_list:\n",
        "  title = movie['title']\n",
        "  omdb_info = get_omdb_info(title)\n",
        "  movie['imdb'] = omdb_info.get('imdbRating', None)\n",
        "  movie['metascore'] = omdb_info.get('Metascore', None)\n",
        "  movie['rotten_tomatoes'] = get_rotten_tomatoes_score(omdb_info)"
      ],
      "metadata": {
        "id": "LmfxrZ32uoqy"
      },
      "execution_count": null,
      "outputs": []
    },
    {
      "cell_type": "code",
      "source": [
        "movie_info_list[2]"
      ],
      "metadata": {
        "id": "uq3XgektxTTR"
      },
      "execution_count": null,
      "outputs": []
    },
    {
      "cell_type": "markdown",
      "source": [
        "### Task#5: Save data in CSV/JSON format\n"
      ],
      "metadata": {
        "id": "bWWtnbCayF-t"
      }
    },
    {
      "cell_type": "code",
      "source": [
        "# changing the datetime object to string to save the file\n",
        "for movie in movie_info_list:\n",
        "  current_date = movie['Release date (datetime)']\n",
        "  if current_date:\n",
        "    movie['Release date (datetime)'] = current_date.strftime('%B %d, %Y')\n",
        "  else:\n",
        "    movie['Release date (datetime)'] = None"
      ],
      "metadata": {
        "id": "5xll7DBDxW6D"
      },
      "execution_count": null,
      "outputs": []
    },
    {
      "cell_type": "code",
      "source": [
        "import json\n",
        "\n",
        "def save_data(name, data):\n",
        "  with open(name, 'w', encoding='utf-8') as f:\n",
        "    json.dump(data, f, ensure_ascii=False, indent=2)"
      ],
      "metadata": {
        "id": "GPGv6eUwyljJ"
      },
      "execution_count": null,
      "outputs": []
    },
    {
      "cell_type": "code",
      "source": [
        "save_data('disney_data_final.json', movie_info_list)"
      ],
      "metadata": {
        "id": "mN0VFDHQ0iqo"
      },
      "execution_count": null,
      "outputs": []
    },
    {
      "cell_type": "code",
      "source": [
        "import pandas as pd\n",
        "\n",
        "df = pd.DataFrame(movie_info_list)\n",
        "\n",
        "df.info()"
      ],
      "metadata": {
        "id": "azxW2eaC0qyR"
      },
      "execution_count": null,
      "outputs": []
    },
    {
      "cell_type": "code",
      "source": [
        "df.to_csv('disney_data_final.csv')"
      ],
      "metadata": {
        "id": "mIl0KjEz1RSy"
      },
      "execution_count": null,
      "outputs": []
    },
    {
      "cell_type": "code",
      "source": [],
      "metadata": {
        "id": "BN-iy6VS1wtG"
      },
      "execution_count": null,
      "outputs": []
    }
  ]
}